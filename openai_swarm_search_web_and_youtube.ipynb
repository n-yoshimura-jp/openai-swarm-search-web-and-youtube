{
 "cells": [
  {
   "cell_type": "markdown",
   "id": "5b868896-b8bc-40bb-b1ff-edbe1a878772",
   "metadata": {},
   "source": [
    "# OpenAI SwarmでWeb検索、YouTube検索のAIエージェントを作成し、実行する"
   ]
  },
  {
   "cell_type": "code",
   "execution_count": 1,
   "id": "fb0815e6-0a30-48f9-840d-80a6f427d70c",
   "metadata": {},
   "outputs": [],
   "source": [
    "# ライブラリをインポート\n",
    "import os\n",
    "from getpass import getpass\n",
    "from pprint import pprint\n",
    "from swarm import Swarm, Agent\n",
    "from openai import OpenAI\n",
    "from duckduckgo_search import DDGS\n",
    "import pandas as pd\n",
    "from googleapiclient.discovery import build"
   ]
  },
  {
   "cell_type": "code",
   "execution_count": null,
   "id": "113b6788-361a-491d-9567-7ff5c58c22e5",
   "metadata": {},
   "outputs": [],
   "source": [
    "# OpenAIのAPIキーを入力\n",
    "openai_api_key = getpass(prompt=\"Please enter OpenAI API key:\")"
   ]
  },
  {
   "cell_type": "code",
   "execution_count": null,
   "id": "ef34375b-8a43-4864-8532-ca4dbea43cb8",
   "metadata": {},
   "outputs": [],
   "source": [
    "# YouTube Data APIのAPIキーを入力\n",
    "youtube_data_api_key = getpass(prompt=\"Please enter YouTube Data API key:\")"
   ]
  },
  {
   "cell_type": "code",
   "execution_count": 4,
   "id": "b45ed559-8947-4b76-929c-e204ce26db89",
   "metadata": {},
   "outputs": [],
   "source": [
    "# OpenAIのAPIキーを環境変数を設定\n",
    "os.environ[\"OPENAI_API_KEY\"] = openai_api_key"
   ]
  },
  {
   "cell_type": "code",
   "execution_count": 5,
   "id": "ea46ae91-43c1-4cd7-8da3-95dc6f0dd7fd",
   "metadata": {},
   "outputs": [],
   "source": [
    "# Swarmクライアントを初期化\n",
    "client = Swarm()"
   ]
  },
  {
   "cell_type": "code",
   "execution_count": 6,
   "id": "8d75103c-af86-4888-b4c3-df135e6a6706",
   "metadata": {},
   "outputs": [],
   "source": [
    "# Web検索を行う関数\n",
    "def search_web(keyword: str) -> pd.DataFrame:\n",
    "    try:\n",
    "        with DDGS() as ddgs:\n",
    "            results = list(ddgs.text(\n",
    "                keywords=keyword, \n",
    "                region=\"jp-jp\", \n",
    "                safesearch=\"off\", \n",
    "                timelimit=None, \n",
    "                max_results=10\n",
    "            ))\n",
    "        \n",
    "        # データをデータフレームに変換\n",
    "        data = [\n",
    "            {\n",
    "                \"タイトル\": result.get(\"title\", \"\"),\n",
    "                \"URL\": result.get(\"href\", \"\"),\n",
    "                \"本文\": result.get(\"body\", \"\")\n",
    "            } \n",
    "            for result in results\n",
    "        ]\n",
    "        df = pd.DataFrame(data)\n",
    "        df.index = df.index + 1\n",
    "        \n",
    "        return df\n",
    "    \n",
    "    except Exception as e:\n",
    "        print(f\"Error: {e}\")\n",
    "        return pd.DataFrame()  # エラー時には空のデータフレームを返す"
   ]
  },
  {
   "cell_type": "code",
   "execution_count": null,
   "id": "1c4d04e9-478f-4354-aeae-01556f2c8455",
   "metadata": {},
   "outputs": [],
   "source": [
    "# Web検索を行う\n",
    "# search_web(\"宮崎グルメ\")"
   ]
  },
  {
   "cell_type": "code",
   "execution_count": 7,
   "id": "d0f3f84c-944e-4593-81e9-ea82e54161b8",
   "metadata": {},
   "outputs": [],
   "source": [
    "# YouTube動画を検索する関数\n",
    "def search_youtube_videos(query: str) -> pd.DataFrame:\n",
    "    try:\n",
    "        youtube = build(\"youtube\", \"v3\", developerKey=youtube_data_api_key)\n",
    "\n",
    "        # 動画検索\n",
    "        request = youtube.search().list(\n",
    "            part=\"snippet\",\n",
    "            q=query,\n",
    "            type=\"video\",\n",
    "            maxResults=10\n",
    "        )\n",
    "        response = request.execute()\n",
    "\n",
    "        # 結果をデータフレームに変換\n",
    "        data = []\n",
    "        for item in response.get(\"items\", []):\n",
    "            video_id = item[\"id\"][\"videoId\"]\n",
    "            title = item[\"snippet\"][\"title\"]\n",
    "            description = item[\"snippet\"][\"description\"]\n",
    "            channel_title = item[\"snippet\"][\"channelTitle\"]\n",
    "            publish_time = item[\"snippet\"][\"publishedAt\"]\n",
    "\n",
    "            data.append({\n",
    "                \"タイトル\": title,\n",
    "                \"説明\": description,\n",
    "                \"チャンネル名\": channel_title,\n",
    "                \"公開日時\": publish_time,\n",
    "                \"URL\": f\"https://www.youtube.com/watch?v={video_id}\"\n",
    "            })\n",
    "\n",
    "        df = pd.DataFrame(data)\n",
    "        df.index = df.index + 1\n",
    "\n",
    "        return df\n",
    "\n",
    "    except Exception as e:\n",
    "        print(f\"Error: {e}\")\n",
    "        return pd.DataFrame()  # エラー時は空のデータフレームを返す"
   ]
  },
  {
   "cell_type": "code",
   "execution_count": null,
   "id": "72cda424-e524-41ab-9c52-49df18158038",
   "metadata": {},
   "outputs": [],
   "source": [
    "# YouTube動画を検索\n",
    "# search_youtube_videos(\"宮崎グルメ\")"
   ]
  },
  {
   "cell_type": "code",
   "execution_count": null,
   "id": "ddf6a75f-6818-4d97-acbe-17f6312f3fe7",
   "metadata": {},
   "outputs": [],
   "source": [
    "# トリアージエージェントへのインストラクション\n",
    "triage_agent_instructions = \"\"\"\n",
    "あなたはユーザーの要求を適切に判定できるトリアージの専門家です。ユーザーの要求に応じて、適切なエージェントに転送してください。\n",
    "YouTubeの検索が必要な場合は、youtube_search_agentに会話を転送してください。\n",
    "Web検索が必要な場合は、web_search_agentに会話を転送してください。\n",
    "転送が不要で、直接質問に回答できる場合は回答してください。\n",
    "\"\"\""
   ]
  },
  {
   "cell_type": "code",
   "execution_count": 9,
   "id": "394d0f6f-ec26-4d53-aa2c-999e0a64d1d1",
   "metadata": {},
   "outputs": [],
   "source": [
    "# トリアージエージェント\n",
    "triage_agent = Agent(\n",
    "    name=\"トリアージエージェント\",\n",
    "    model=\"gpt-4o-mini\",\n",
    "    instructions=triage_agent_instructions\n",
    ")"
   ]
  },
  {
   "cell_type": "code",
   "execution_count": 10,
   "id": "18805bdd-ba42-4b7e-bf70-04e00112efc9",
   "metadata": {},
   "outputs": [],
   "source": [
    "# Web検索エージェントへのインストラクション\n",
    "web_search_agent_instructions = \"\"\"\n",
    "あなたはWeb検索の専門家です。ユーザーからキーワードでWeb検索を要求されたら、その結果をデータフレームで提供してください。検索については、search_webの関数を使用してください。\n",
    "Web検索が不要な場合は、triage_agentに会話を転送してください。\n",
    "YouTube検索が必要な場合は、youtube_search_agentに会話を転送してください。\n",
    "\"\"\""
   ]
  },
  {
   "cell_type": "code",
   "execution_count": 11,
   "id": "71d5cbdb-0b88-4ca0-8a70-bd167b6ab7a3",
   "metadata": {},
   "outputs": [],
   "source": [
    "# Web検索エージェント\n",
    "web_search_agent = Agent(\n",
    "    name=\"Web検索エージェント\",\n",
    "    model=\"gpt-4o-mini\",\n",
    "    instructions=web_search_agent_instructions,\n",
    "    functions=[search_web]\n",
    ")"
   ]
  },
  {
   "cell_type": "code",
   "execution_count": 12,
   "id": "3f9763b5-9caa-4d4a-9946-462d178cfaf6",
   "metadata": {},
   "outputs": [],
   "source": [
    "# YouTube検索エージェントへのインストラクション\n",
    "youtube_search_agent_instructions = \"\"\"\n",
    "あなたはYouTube検索の専門家です。ユーザーからキーワードでYouTube検索を要求されたら、その結果をデータフレームで提供してください。検索については、search_youtube_videosの関数を使用してください。\n",
    "YouTube検索が不要な場合は、triage_agentに会話を転送してください。\n",
    "Web検索が必要な場合は、web_search_agentに会話を転送してください。\n",
    "\"\"\""
   ]
  },
  {
   "cell_type": "code",
   "execution_count": 13,
   "id": "591e4e0e-0f52-4905-b897-47b9942ad2d5",
   "metadata": {},
   "outputs": [],
   "source": [
    "# YouTube検索エージェント\n",
    "youtube_search_agent = Agent(\n",
    "    name=\"YouTube検索エージェント\",\n",
    "    model=\"gpt-4o-mini\",\n",
    "    instructions=youtube_search_agent_instructions,\n",
    "    functions=[search_youtube_videos]\n",
    ")"
   ]
  },
  {
   "cell_type": "code",
   "execution_count": null,
   "id": "0eb55168-a6be-4510-b815-8f0583ce1348",
   "metadata": {},
   "outputs": [],
   "source": [
    "# Web検索エージェントに転送する関数\n",
    "def transfer_to_web_search_agent():\n",
    "    print(\"Web検索エージェントに転送します\")\n",
    "    return web_search_agent\n",
    "\n",
    "# YouTube検索エージェントに転送する関数\n",
    "def transfer_to_youtube_search_agent():\n",
    "    print(\"YouTube検索エージェントに転送します\")\n",
    "    return youtube_search_agent\n",
    "\n",
    "# トリアージエージェントに転送に転送する関数\n",
    "def transfer_back_to_triage_agent():\n",
    "    print(\"トリアージエージェントに転送します\")\n",
    "    return triage_agent\n",
    "\n",
    "# triage_agentにWeb検索エージェント、YouTube検索エージェントに転送する関数を指定\n",
    "triage_agent.functions = [transfer_to_web_search_agent, transfer_to_youtube_search_agent]\n",
    "\n",
    "# web_search_agentにトリアージエージェントに転送に転送する関数を追加\n",
    "web_search_agent.functions.append(transfer_back_to_triage_agent)\n",
    "\n",
    "# web_search_agentにYouTube検索エージェントに転送に転送する関数を追加\n",
    "web_search_agent.functions.append(transfer_to_youtube_search_agent)\n",
    "\n",
    "# youtube_search_agentにトリアージエージェントに転送に転送する関数を追加\n",
    "youtube_search_agent.functions.append(transfer_back_to_triage_agent)\n",
    "\n",
    "# youtube_search_agentにWeb検索エージェントに転送に転送する関数を追加\n",
    "youtube_search_agent.functions.append(transfer_to_web_search_agent)"
   ]
  },
  {
   "cell_type": "code",
   "execution_count": 15,
   "id": "eee54ddf-3b93-4eb6-b637-51aa3d5ceb7d",
   "metadata": {},
   "outputs": [
    {
     "name": "stdout",
     "output_type": "stream",
     "text": [
      "Web検索エージェントに転送します\n",
      "以下は「宮崎グルメ」に関するWeb検索結果です。\n",
      "\n",
      "| タイトル                                                                                       | URL                                                | 本文                                                                                                     |\n",
      "|-----------------------------------------------------------------------------------------------|---------------------------------------------------|----------------------------------------------------------------------------------------------------------|\n",
      "| 宮崎代表＆発祥グルメ!宮崎市に訪れたらコレ絶対食べてみて! | [リンク](https://www.miyazaki-city.tourism.or.jp/feature/) | 宮崎県の豊富な食材と伝統のグルメを紹介する特集ページです。地鶏の炭火焼きや宮崎牛、チキン南蛮...                  |\n",
      "| 宮崎旅行で食べたい!名物グルメが食べられるお店18選                                           | [リンク](https://s.tabelog.com/smartphone/matome/15134/) | 宮崎県は南九州に位置し、年間を通して暖かく晴れた日が多い地域。降水量も多いため、植物もよく育...                |\n",
      "| 宮崎の美味しいご当地グルメ10選。絶対食べたい名物グルメはコレ!おすすめ店も紹介                         | [リンク](https://www.jalan.net/news/article/411834/) | 宮崎県には、チキン南蛮や宮崎牛などの名物グルメがたくさん!この記事では、宮崎を代表するご当地...               |\n",
      "| 宮崎でおすすめのグルメ・レストランガイド - 食べログ                                           | [リンク](https://s.tabelog.com/miyazaki/)       | お店選びで失敗したくない人のためのグルメサイト「食べログ」は宮崎にあるレストラン7,335件...                |\n",
      "| 宮崎県の名物料理といえばコレ!絶品ご当地グルメ30選 [食べログまとめ]                                         | [リンク](https://s.tabelog.com/smartphone/matome/25630/) | 九州の南東部に位置している宮崎県は、自然環境に恵まれた土地柄。海の幸・山の幸を使用した名物も...             |\n",
      "| 【保存版】宮崎グルメ てげうまい!たびらい編集部が厳選した絶品グルメ29選                             | [リンク](https://www.tabirai.net/sightseeing/tatsujin/015/) | 宮崎の老舗店や人気店のグルメをたびらい編集部が厳選して紹介します。チキン南蛮やレタス巻き、う...              |\n",
      "| 宮崎の旨い名物が食べたい!宮崎県の名物ご当地グルメ15選 | [リンク](https://tabijikan.jp/miyazaki-prefecture-specialty/) | 宮崎の旨い名物を紹介する記事です。地鶏の炭火焼きや冷や汁、宮崎釜揚げうどんなどの郷土料理から...               |\n",
      "| 【人気投票 1~23位】宮崎の食べ物・郷土料理ランキング!おすすめ名物・ご当地グルメは？ | [リンク](https://ranking.net/rankings/best-miyazaki-foods) | 宮崎で人気のご当地グルメ。宮崎でとれた素材を使った、郷土料理やB級グルメも高い人気を誇って...                 |\n",
      "| 【保存版】宮崎グルメならここ!地元民おすすめのお店19選【チキン南蛮・話題のイタリアン・絶品... | [リンク](https://anniversarys-mag.jp/13628) | そんな宮崎に遊びに来たなら、お得に食べられるスペシャルグルメをたっぷりと満喫して欲しいという...             |\n",
      "| 宮崎県で食べたいグルメ!てげうめぇ!海の幸、山の幸 | [リンク](https://www.kanko-miyazaki.jp/gourmet/gourmet) | 宮崎県は、日本一の宮崎牛をはじめとする、鶏や豚、野菜やフルーツなどの山の幸、日向灘から志布志...              |\n",
      "\n",
      "これらの情報をもとに、宮崎のグルメを楽しんでください！\n"
     ]
    }
   ],
   "source": [
    "# エージェントを呼び出して、実行 (Web検索)\n",
    "response_web_search = client.run(\n",
    "    agent=triage_agent,\n",
    "    messages=[{\"role\": \"user\", \"content\": \"宮崎グルメというキーワードでWeb検索をしてください。\"}]\n",
    ")\n",
    "\n",
    "# 結果を確認\n",
    "print(response_web_search.messages[-1][\"content\"])"
   ]
  },
  {
   "cell_type": "code",
   "execution_count": 16,
   "id": "159fc9e2-ac32-4172-b4e8-a921920a3bbc",
   "metadata": {},
   "outputs": [
    {
     "name": "stdout",
     "output_type": "stream",
     "text": [
      "YouTube検索エージェントに転送します\n",
      "以下は「宮崎グルメ」というキーワードでのYouTube検索結果です。\n",
      "\n",
      "| タイトル                                                                 | 説明                                                                                                       | チャンネル名                             | 公開日時               | URL                                               |\n",
      "|--------------------------------------------------------------------------|------------------------------------------------------------------------------------------------------------|-----------------------------------------|------------------------|---------------------------------------------------|\n",
      "| 【宮崎】宮崎出身のJAL社員がおすすめする絶品グルメ５選 #shorts            | 宮崎出身のADすけさんがイチオシの宮崎グルメ5選を紹介します！ 1軒目は[おぐら]。 宮崎と...               | JAL ふるさとプロジェクト                | 2023-09-28T11:00:08Z | [動画を見る](https://www.youtube.com/watch?v=Ar2kTScZ_bA) |\n",
      "| 【宮崎グルメ】行列のできる人気店があると聞いて調査しに行ってみたら ...😳🔍 |                                                                                                            | あずの宮崎旅                              | 2023-05-20T10:25:24Z | [動画を見る](https://www.youtube.com/watch?v=-4NjO5Ss3Gs) |\n",
      "| 【最新】地元民に聞いた宮崎オススメのお店7選！チキン南蛮！地鶏！辛麺！釜揚げうどん！宮崎絶品... | みなさんこんにちは、トラベルスキル向上委員会です！ 今回は前回に続いて九州編です！鹿児島中央...         | トラベルスキル向上委員会                | 2024-02-02T09:55:00Z | [動画を見る](https://www.youtube.com/watch?v=nYqKodedLzI) |\n",
      "| 宮崎グルメ5選！宮崎市中心街編 #チキン南蛮 #地鶏 #トマトラーメン #郷土料理 #宮崎 | 美味しいグルメを紹介していくYouTubeチャンネル、 ひなたトラベルチャンネル！ 今後も不...           | ひなたトラベルチャンネル                | 2024-08-11T06:15:01Z | [動画を見る](https://www.youtube.com/watch?v=d3StTFUtkrE) |\n",
      "| 【今すぐ行きたい！】宮崎グルメランキングTOP11｜ランチにおすすめのうどん・人気・チキン南... | 宮崎グルメで迷ったらここ！ 見たら今すぐ行きたくなる、宮崎グルメTOP11をランキング形式で...             | GOTTA                                  | 2023-07-18T08:31:08Z | [動画を見る](https://www.youtube.com/watch?v=UxvmIHKyNos) |\n",
      "| 【宮崎ランチはこれで決まり】宮崎グルメ　宮崎県宮崎市のコスパ最強ランチ食堂5選【トッキ―二ひ... | 見に来てくれてありがとうございます。 私たちはひょっとこ好きな人と家族で観光をしています。 ...         | トッキーニひょう助の旅【Hyousuke　JapanTravel】 | 2024-10-10T11:00:26Z | [動画を見る](https://www.youtube.com/watch?v=kFksGqWHy24) |\n",
      "| 【観光旅行】宮崎県行ったら絶対に食べたい！激ウマB級グルメ８選【都道府県別】 / Miyaz... | 宮崎県に行ったら絶対に食べたい激ウマB級グルメをまとめました。都道府県別にシリーズ化している...         | フクロウの旅案内 - 観光地情報とみんなの声 | 2024-09-01T09:00:00Z | [動画を見る](https://www.youtube.com/watch?v=0gGIp2pLfkg) |\n",
      "| 【宮崎グルメ旅】一番びっくりしたのは鯵の美味しさでした。                       | 宮崎駅をでた瞬間の景色、最高でした     そして並木道の柑橘系の匂いの正体はなんなんだろう...               | ついたび                                 | 2024-05-10T11:00:23Z | [動画を見る](https://www.youtube.com/watch?v=UFKA4wuCkAc) |\n",
      "| 【宮崎グルメ】昔ながらの洋食屋さん「グラバー亭」がおしゃれすぎた｜日向市｜  | ご視聴ありがとうございます 撮影地：グラバー亭 〒883-0044 宮崎県日向市上町３０−１...                 | キョウスケ【宮崎県の人】                  | 2024-12-07T10:00:19Z | [動画を見る](https://www.youtube.com/watch?v=DONyGyDvDs8) |\n",
      "| 日本一のスナック街でグルメ旅！【宮崎市２泊３日】                                   | 宮崎の繁華街中心に食べのみ歩いていきます 【今回訪問したお店】 丸万焼鳥本店 https:/...               | 47travels_旅行グルメvideo                | 2024-10-24T10:50:56Z | [動画を見る](https://www.youtube.com/watch?v=Z_M1ke7toOY) |\n",
      "\n",
      "ご興味のある動画をクリックしてご覧ください！\n"
     ]
    }
   ],
   "source": [
    "# エージェントを呼び出して、実行 (Web検索)\n",
    "response_youtube_search = client.run(\n",
    "    agent=triage_agent,\n",
    "    messages=[{\"role\": \"user\", \"content\": \"宮崎グルメというキーワードでYouTube検索をしてください。\"}]\n",
    ")\n",
    "\n",
    "# 結果を確認\n",
    "print(response_youtube_search.messages[-1][\"content\"])"
   ]
  },
  {
   "cell_type": "code",
   "execution_count": 17,
   "id": "8822a8bf-a4e8-463b-b479-9fda3351e020",
   "metadata": {},
   "outputs": [
    {
     "name": "stdout",
     "output_type": "stream",
     "text": [
      "宮崎グルメのおすすめとして、以下のものがあります。\n",
      "\n",
      "1. **チキン南蛮** - 甘酸っぱいタルタルソースが特徴の揚げ鶏料理です。\n",
      "2. **宮崎牛** - 高品質の和牛で、柔らかくて風味豊かです。ステーキや焼肉で楽しめます。\n",
      "3. **日向夏** - 見た目が愛らしい果物で、甘くて酸っぱい味わいが特徴です。\n",
      "4. **冷や汁** - 夏にぴったりの冷たい味噌汁で、魚や野菜を使ったさっぱりとした料理です。\n",
      "5. **マンゴー** - 特に「宮崎マンゴー」は高評価で、濃厚な甘さがあります。\n",
      "\n",
      "これらのグルメは宮崎を訪れた際にはぜひお試しください。\n"
     ]
    }
   ],
   "source": [
    "# エージェントを呼び出して、実行 (通常の質問)\n",
    "response_triage_agent = client.run(\n",
    "    agent=triage_agent,\n",
    "    messages=[{\"role\": \"user\", \"content\": \"宮崎グルメでおすすめを教えてください。\"}]\n",
    ")\n",
    "\n",
    "# 結果を確認\n",
    "print(response_triage_agent.messages[-1][\"content\"])"
   ]
  }
 ],
 "metadata": {
  "kernelspec": {
   "display_name": "Python 3 (ipykernel)",
   "language": "python",
   "name": "python3"
  },
  "language_info": {
   "codemirror_mode": {
    "name": "ipython",
    "version": 3
   },
   "file_extension": ".py",
   "mimetype": "text/x-python",
   "name": "python",
   "nbconvert_exporter": "python",
   "pygments_lexer": "ipython3",
   "version": "3.12.7"
  }
 },
 "nbformat": 4,
 "nbformat_minor": 5
}
